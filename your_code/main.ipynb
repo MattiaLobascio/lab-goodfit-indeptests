{
 "cells": [
  {
   "cell_type": "markdown",
   "metadata": {},
   "source": [
    "## Question 1\n",
    "The following table indicates the number of 6-point scores in an American rugby match in the 1979 season.\n",
    "\n",
    "![](table1.png)\n",
    "\n",
    "Based on these results, we create a Poisson distribution with the sample mean parameter  = 2.435. Is there any reason to believe that at a .05 level the number of scores is a Poisson variable?"
   ]
  },
  {
   "cell_type": "code",
   "execution_count": 2,
   "metadata": {},
   "outputs": [],
   "source": [
    "# Libs\n",
    "import numpy as np\n",
    "import pandas as pd\n",
    "import scipy.stats as st\n"
   ]
  },
  {
   "cell_type": "code",
   "execution_count": 9,
   "metadata": {},
   "outputs": [
    {
     "data": {
      "text/plain": [
       "Power_divergenceResult(statistic=5.526588649191276, pvalue=0.5959787428784398)"
      ]
     },
     "execution_count": 9,
     "metadata": {},
     "output_type": "execute_result"
    }
   ],
   "source": [
    "def expected_scores(x):\n",
    "    expected_scores = st.poisson.pmf(x,2.435)*448\n",
    "    return expected_scores\n",
    "\n",
    "scores = np.array([0,1,2,3,4,5,6,7])\n",
    "observed = np.array([35,99,104,110,62,25,10,3])\n",
    "\n",
    "expected = expected_scores(scores) \n",
    "\n",
    "st.chisquare(observed, f_exp=expected)"
   ]
  },
  {
   "cell_type": "markdown",
   "metadata": {},
   "source": [
    "## Question 2\n",
    "The following are the ordered values of a random sample of SAT scores (university entrance exam) for several students: 852, 875, 910, 933, 957, 963, 981, 998, 1010, 1015, 1018, 1023, 1035, 1048, 1063. In previous years, the scores were presented by N (985,50). Based on the sample, is there any reason to believe that there has been a change in the distribution of scores this year? Use the level alpha = 0.05. "
   ]
  },
  {
   "cell_type": "code",
   "execution_count": 29,
   "metadata": {},
   "outputs": [
    {
     "data": {
      "text/plain": [
       "Power_divergenceResult(statistic=105.78420456300118, pvalue=3.6595263310010713e-16)"
      ]
     },
     "execution_count": 29,
     "metadata": {},
     "output_type": "execute_result"
    }
   ],
   "source": [
    "#your answer here\n",
    "obs_scores = np.array([852,875,910,933,957,963,981,998,1010,1015,1018,1023,1035,1048,1063])\n",
    "Nrm  = st.norm(985,50)\n",
    "exp_scores = Nrm.rvs(size=len((obs_scores)))\n",
    "\n",
    "st.chisquare(obs_scores, f_exp=exp_scores)"
   ]
  },
  {
   "cell_type": "markdown",
   "metadata": {},
   "source": [
    "##### ALTERNATIVE... WHICH ONE OF THE 2 IS CORRECT?\n",
    "ABOVE I REJECT H0, BELOW I DONT!"
   ]
  },
  {
   "cell_type": "code",
   "execution_count": 30,
   "metadata": {},
   "outputs": [
    {
     "data": {
      "text/plain": [
       "KstestResult(statistic=0.1581291279406798, pvalue=0.847406396427736)"
      ]
     },
     "execution_count": 30,
     "metadata": {},
     "output_type": "execute_result"
    }
   ],
   "source": [
    "st.kstest(obs_scores, Nrm.cdf)"
   ]
  },
  {
   "cell_type": "markdown",
   "metadata": {},
   "source": [
    "## Question 3\n",
    "Let's analyze a discrete distribution. To analyze the number of defective items in a factory in the city of Medellín, we took a random sample of n = 60 articles and observed the number of defectives in the following table:\n",
    "\n",
    "![](table4.png)\n",
    "\n",
    "A poissón distribution was proposed since it is defined for x = 0,1,2,3, .... using the following model:\n",
    "\n",
    "![](image1.png)\n",
    "\n",
    "Does the distribution of defective items follow this distribution?"
   ]
  },
  {
   "cell_type": "code",
   "execution_count": 44,
   "metadata": {},
   "outputs": [
    {
     "name": "stdout",
     "output_type": "stream",
     "text": [
      "Power_divergenceResult(statistic=70.99866431796806, pvalue=2.6085173912897782e-15)\n"
     ]
    },
    {
     "data": {
      "text/plain": [
       "'\\nWe cannot reject H0 for which the defective items actually follow a Poisson distribution\\n'"
      ]
     },
     "execution_count": 44,
     "metadata": {},
     "output_type": "execute_result"
    }
   ],
   "source": [
    "# your code here\n",
    "val = np.array([0,1,3,4])\n",
    "obs = np.array([32,15,9,4])\n",
    "mu = np.mean(val)\n",
    "exp = st.poisson.pmf(val,mu) *np.sum(obs)\n",
    "chi = st.chisquare(obs, f_exp=exp)\n",
    "print(chi)\n",
    "\"\"\"\n",
    "We CAN reject H0 for which the defective items actually follow a Poisson distribution\n",
    "\"\"\""
   ]
  },
  {
   "cell_type": "markdown",
   "metadata": {},
   "source": [
    "## Question 4\n",
    "A quality control engineer takes a sample of 10 tires that come out of an assembly line, and would like to verify on the basis of the data that follows, if the number of tires with defects observed over 200 days, if it is true that 5% of all tires have defects (that is, if the sample comes from a binomial population with n = 10 and p = 0.05). \n",
    "\n",
    "![](table6.png)\n"
   ]
  },
  {
   "cell_type": "code",
   "execution_count": 47,
   "metadata": {},
   "outputs": [
    {
     "data": {
      "text/plain": [
       "Power_divergenceResult(statistic=6.730152995610064, pvalue=0.034559372300758)"
      ]
     },
     "execution_count": 47,
     "metadata": {},
     "output_type": "execute_result"
    }
   ],
   "source": [
    "# your answer here\n",
    "p = 0.05\n",
    "n= 10\n",
    "val = np.array([0,1,2])\n",
    "obs = np.array([138,53,9])\n",
    "exp = st.binom.pmf(val,n,p) *np.sum(obs)\n",
    "\n",
    "print(st.chisquare(obs, f_exp=exp))\n",
    "\n",
    "\"\"\"\n",
    "We can reject the H0 assumption for which the sample comes from a binomial pop.\n",
    "This is valid at 95% significance, but not at 99%.\n",
    "\"\"\""
   ]
  },
  {
   "cell_type": "markdown",
   "metadata": {},
   "source": [
    "## Question 5\n",
    "A researcher gathers information about the patterns of physical activity (AF) of children in the fifth grade of primary school of a public school. He defines three categories of physical activity (1 = Low, 2 = Medium, 3 = High). He also inquires about the regular consumption of sugary drinks at school, and defines two categories (1 = consumed, 0 = not consumed). We would like to evaluate if there is an association between patterns of physical activity and the consumption of sugary drinks for the children of this school, at a level of 5% significance. The results are in the following table: \n",
    "\n",
    "![](table5.png)"
   ]
  },
  {
   "cell_type": "code",
   "execution_count": 60,
   "metadata": {},
   "outputs": [
    {
     "data": {
      "text/plain": [
       "(10.712198008709638,\n",
       " 0.09768908598416433,\n",
       " 6,\n",
       " array([[24.08421053, 19.91578947, 44.        ],\n",
       "        [19.70526316, 16.29473684, 36.        ],\n",
       "        [ 8.21052632,  6.78947368, 15.        ],\n",
       "        [52.        , 43.        , 95.        ]]))"
      ]
     },
     "execution_count": 60,
     "metadata": {},
     "output_type": "execute_result"
    }
   ],
   "source": [
    "#your answer here\n",
    "import pandas as pd\n",
    "#define patterns of AF for both Yes and No sugary drinks consumption\n",
    "Low = np.array([32,12,44])\n",
    "Mid = np.array([14,22,36])\n",
    "High = np.array([6,9,15])\n",
    "TOT = np.array([52,43,95])\n",
    "sugar = [\"Sugar\",\"No-Sugar\",\"TOT\"]\n",
    "AF = [\"L\",\"M\",\"H\",\"TOT\"]\n",
    "tab = pd.DataFrame((Low,Mid,High,TOT),index=AF, columns=sugar)\n",
    "\n",
    "st.chi2_contingency(tab)"
   ]
  },
  {
   "cell_type": "code",
   "execution_count": null,
   "metadata": {},
   "outputs": [],
   "source": [
    "\"\"\"\n",
    "We reject H0 at 95%, not at 99%, so we reject the assumption for which there is an association\n",
    "between the 2 patterns.\n",
    "\"\"\""
   ]
  }
 ],
 "metadata": {
  "kernelspec": {
   "display_name": "Python 3",
   "language": "python",
   "name": "python3"
  },
  "language_info": {
   "codemirror_mode": {
    "name": "ipython",
    "version": 3
   },
   "file_extension": ".py",
   "mimetype": "text/x-python",
   "name": "python",
   "nbconvert_exporter": "python",
   "pygments_lexer": "ipython3",
   "version": "3.6.8"
  }
 },
 "nbformat": 4,
 "nbformat_minor": 2
}
